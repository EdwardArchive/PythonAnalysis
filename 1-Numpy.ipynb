{
 "cells": [
  {
   "cell_type": "markdown",
   "metadata": {},
   "source": [
    "* 변수 -> 배열(matrix:행렬 계산할때 필요함) -> 집합자료형\n",
    "* 배열이라는 기능이 없음(python)\n",
    "* 배열은 집합자료형보다 속도가 빠름"
   ]
  },
  {
   "cell_type": "markdown",
   "metadata": {},
   "source": [
    "# 특징\n",
    "\n",
    "    1) Vector 및 matrix연산과 관련된 편리한 기능을 제공\n",
    "    2) list와 거의 동일하지만 numpy배열의 특징을 갖는다.(같은 자료형을 저장하는 공간)\n",
    "      - 배열: 모든 원소가 같은 자료형이여야 한다. 원소의 갯수를 바꿀 수 없다.\n",
    "    3) 빠른 속도를 지원\n",
    "    4) 백터의 연한, 배열 인덱싱을 통한 질의 기능\n",
    "    5) http://numpy.org"
   ]
  },
  {
   "cell_type": "code",
   "execution_count": 2,
   "metadata": {},
   "outputs": [],
   "source": [
    "import numpy as np"
   ]
  },
  {
   "cell_type": "markdown",
   "metadata": {},
   "source": [
    "## 1차원 배열"
   ]
  },
  {
   "cell_type": "code",
   "execution_count": 7,
   "metadata": {},
   "outputs": [
    {
     "name": "stdout",
     "output_type": "stream",
     "text": [
      "[1, 2, 3, 4, 5, 6, 10, 20] <class 'list'>\n",
      "[ 1  2  3  4  5  6 10 20] <class 'numpy.ndarray'>\n",
      "(8,)\n"
     ]
    }
   ],
   "source": [
    "a=[1,2,3,4,5,6,10,20] # python list\n",
    "print(a,type(a))\n",
    "a=np.array([1,2,3,4,5,6,10,20])\n",
    "print(a,type(a))\n",
    "print(a.shape) #배열의 크기"
   ]
  },
  {
   "cell_type": "code",
   "execution_count": 11,
   "metadata": {
    "scrolled": true
   },
   "outputs": [
    {
     "name": "stdout",
     "output_type": "stream",
     "text": [
      "[0, 1, 2, 3, 4, 5, 6, 7, 8, 9, 0, 1, 2, 3, 4, 5, 6, 7, 8, 9]\n",
      "[ 0  2  4  6  8 10 12 14 16 18]\n",
      "[-2 -1  0  1  2  3  4  5  6  7]\n"
     ]
    }
   ],
   "source": [
    "#백터화 연산\n",
    "data=[0,1,2,3,4,5,6,7,8,9]\n",
    "print(data*2)\n",
    "\n",
    "data2=np.array(data)\n",
    "print(data2*2)\n",
    "print(data2-2)"
   ]
  },
  {
   "cell_type": "markdown",
   "metadata": {},
   "source": [
    "## 2차원 배열"
   ]
  },
  {
   "cell_type": "code",
   "execution_count": 14,
   "metadata": {},
   "outputs": [
    {
     "name": "stdout",
     "output_type": "stream",
     "text": [
      "[[0 1 2]\n",
      " [3 4 5]] (2, 3)\n",
      "[0 1 2]\n",
      "0\n"
     ]
    }
   ],
   "source": [
    "arr=np.array([[0,1,2],\n",
    "             [3,4,5]])\n",
    "\n",
    "print(arr,arr.shape)\n",
    "print(arr[0])\n",
    "print(arr[0][0])"
   ]
  },
  {
   "cell_type": "markdown",
   "metadata": {},
   "source": [
    "## 3차원 배열"
   ]
  },
  {
   "cell_type": "code",
   "execution_count": 26,
   "metadata": {},
   "outputs": [
    {
     "name": "stdout",
     "output_type": "stream",
     "text": [
      "[[[ 1  2  3  4]\n",
      "  [ 5  6  7  8]\n",
      "  [ 9 10 11 12]]\n",
      "\n",
      " [[ 1  2  3  4]\n",
      "  [ 5  6  7  8]\n",
      "  [ 9 10 11 12]]]\n",
      "------------------------\n",
      "[[ 1  2  3  4]\n",
      " [ 5  6  7  8]\n",
      " [ 9 10 11 12]]\n",
      "------------------------\n",
      "[1 2 3 4]\n",
      "------------------------\n",
      "1\n",
      "------------------------\n",
      "(2, 3, 4)\n",
      "2 3 4\n"
     ]
    }
   ],
   "source": [
    "arr=np.array(\n",
    "[[[1,2,3,4],[5,6,7,8],[9,10,11,12]],\n",
    "[[1,2,3,4],[5,6,7,8,],[9,10,11,12]]])\n",
    "print(arr)\n",
    "print(\"--------\"*3)\n",
    "print(arr[0])\n",
    "print(\"--------\"*3)\n",
    "print(arr[0][0])\n",
    "print(\"--------\"*3)\n",
    "print(arr[0][0][0])\n",
    "print(\"--------\"*3)\n",
    "print(arr.shape)\n",
    "print(len(arr),len(arr[0]),len(arr[0][0]))"
   ]
  },
  {
   "cell_type": "code",
   "execution_count": 29,
   "metadata": {},
   "outputs": [
    {
     "name": "stdout",
     "output_type": "stream",
     "text": [
      "3\n",
      "(1, 1, 1)\n"
     ]
    }
   ],
   "source": [
    "n=np.array([[[1]]])   #무조건 대괄호로 묶어줘야한다\n",
    "print(n.ndim)\n",
    "print(n.shape)"
   ]
  },
  {
   "cell_type": "markdown",
   "metadata": {},
   "source": [
    "## 배열의 인덱싱"
   ]
  },
  {
   "cell_type": "code",
   "execution_count": 36,
   "metadata": {},
   "outputs": [
    {
     "name": "stdout",
     "output_type": "stream",
     "text": [
      "2 5\n"
     ]
    }
   ],
   "source": [
    "arr=np.array([0,1,2,3,4,5])\n",
    "print(arr[2],arr[-1])"
   ]
  },
  {
   "cell_type": "code",
   "execution_count": 37,
   "metadata": {},
   "outputs": [
    {
     "name": "stdout",
     "output_type": "stream",
     "text": [
      "2 2 4 5\n"
     ]
    }
   ],
   "source": [
    "arr2=np.array([[0,1,2],[3,4,5]])\n",
    "print(arr2[0][2],arr2[0,2],arr2[1,1],arr2[-1,-1])"
   ]
  },
  {
   "cell_type": "code",
   "execution_count": 55,
   "metadata": {
    "scrolled": true
   },
   "outputs": [
    {
     "name": "stdout",
     "output_type": "stream",
     "text": [
      "[0 2 4 6 8]\n",
      "[0 1 0 1 0 1 0 1 0 1]\n",
      "[ True False  True False  True False  True False  True False]\n",
      "[0 2 4 6 8]\n",
      "[0 3 6 9]\n",
      "[1 5 9]\n",
      "[0 0 0 9]\n"
     ]
    }
   ],
   "source": [
    "#Fancy indexing 자유로운(극상의 멋진)인덱싱\n",
    "\n",
    "arr1=np.array([i for i in range(10)])\n",
    "idx=np.array([True,False,True,False,True,False,True,False,True,False])\n",
    "\n",
    "print(arr1[idx])\n",
    "print(arr1%2)\n",
    "print(arr1%2==0)\n",
    "print(arr1[arr1%2==0])\n",
    "\n",
    "#arr1에서 3의 배수를 찾아\n",
    "print(arr1[arr1%3==0])\n",
    "#arr1에서 4로 나누면 1이 남는 수를 찾아라\n",
    "print(arr1[arr1%4==1])\n",
    "#arr1에서 3에서 나누면 나눠지고 4로 나누면 1이남는 수를 찾아라\n",
    "idx=arr1[arr1%3==0]%4==1\n",
    "print(arr1[arr1%3==0]*idx)\n",
    "\n",
    "arr1[]"
   ]
  },
  {
   "cell_type": "markdown",
   "metadata": {},
   "source": [
    "## 배열의 슬라이싱"
   ]
  },
  {
   "cell_type": "code",
   "execution_count": 60,
   "metadata": {
    "scrolled": true
   },
   "outputs": [
    {
     "name": "stdout",
     "output_type": "stream",
     "text": [
      "[0 1]\n",
      "[[0 1]\n",
      " [4 5]\n",
      " [8 9]]\n",
      "[[0 1]\n",
      " [4 5]]\n",
      "[[8]\n",
      " [4]\n",
      " [0]]\n"
     ]
    }
   ],
   "source": [
    "arr=np.array([[0,1,2,3],\n",
    "             [4,5,6,7],\n",
    "             [8,9,10,11]])\n",
    "\n",
    "print(arr[0,0:-2])\n",
    "print(arr[0:3,0:2])\n",
    "\n",
    "print(arr[0:2,0:2])\n",
    "print(arr[[2,1,0],:1])"
   ]
  },
  {
   "cell_type": "markdown",
   "metadata": {},
   "source": [
    "## Numpy 자료형\n",
    "\n",
    "     - b : boolen\n",
    "     - i : integer\n",
    "     - o : 부호없는 정수\n",
    "     - f : 부동소수점\n",
    "     - c : 복소수\n",
    "     - O : 객체\n",
    "     - S : 바이트 문자열\n",
    "     - U : 유니코드 문자열"
   ]
  },
  {
   "cell_type": "code",
   "execution_count": 63,
   "metadata": {},
   "outputs": [
    {
     "name": "stdout",
     "output_type": "stream",
     "text": [
      "int32\n",
      "float64\n",
      "float64\n"
     ]
    }
   ],
   "source": [
    "arr=np.array([1,2,3])\n",
    "print(arr.dtype)\n",
    "\n",
    "arr=np.array([1.0,2.0,3.0])\n",
    "print(arr.dtype)\n",
    "\n",
    "arr=np.array([1,2,3.0])\n",
    "print(arr.dtype)"
   ]
  },
  {
   "cell_type": "code",
   "execution_count": 68,
   "metadata": {},
   "outputs": [
    {
     "name": "stdout",
     "output_type": "stream",
     "text": [
      "float32\n",
      "2.0\n",
      "<U1\n",
      "12\n"
     ]
    }
   ],
   "source": [
    "arr=np.array([1,2,3],dtype='f')\n",
    "print(arr.dtype)\n",
    "print(arr[0]*2)\n",
    "\n",
    "arr=np.array([1,2,3],dtype='U')\n",
    "print(arr.dtype)\n",
    "print(arr[0]+arr[1])"
   ]
  },
  {
   "cell_type": "markdown",
   "metadata": {},
   "source": [
    "## 배열 생성"
   ]
  },
  {
   "cell_type": "code",
   "execution_count": 6,
   "metadata": {},
   "outputs": [
    {
     "name": "stdout",
     "output_type": "stream",
     "text": [
      "[0. 0. 0. 0. 0.]\n",
      "<class 'numpy.ndarray'>\n",
      "float64\n",
      "--------------------\n",
      "<class 'numpy.ndarray'>\n",
      "int32\n",
      "--------------------\n",
      "<class 'numpy.ndarray'>\n",
      "int32\n",
      "['1' '1' '1' '1']\n",
      "[[0. 0. 0.]\n",
      " [0. 0. 0.]\n",
      " [0. 0. 0.]\n",
      " [0. 0. 0.]]\n",
      "--------------------\n",
      "[[0. 0. 0.]\n",
      " [0. 0. 0.]\n",
      " [0. 0. 0.]\n",
      " [0. 0. 0.]]\n",
      "--------------------\n",
      "[0 1 2 3 4 5 6 7 8 9]\n",
      "[ 3  5  7  9 11 13 15 17 19]\n",
      "--------------------\n",
      "[  0.  25.  50.  75. 100.]\n"
     ]
    }
   ],
   "source": [
    "print(np.zeros(5)) #괄호안에 들어간 숫자의 갯수만큼에 0이 들어간 '배열'생성a\n",
    "at=np.zeros(4)\n",
    "print(type(at))\n",
    "print(at.dtype)\n",
    "print(\"--------------------\")\n",
    "at=np.zeros(4, dtype='i')\n",
    "print(type(at))\n",
    "print(at.dtype)\n",
    "print(\"--------------------\")\n",
    "arr=np.zeros(4, dtype='U4')\n",
    "print(type(at))\n",
    "print(at.dtype)\n",
    "arr2=np.ones_like(arr)\n",
    "print(arr2)\n",
    "at=np.zeros((4,3))\n",
    "print(at)\n",
    "print(\"--------------------\")\n",
    "\n",
    "arr=np.empty((4,3))\n",
    "print(arr)\n",
    "print(\"--------------------\")\n",
    "arr=np.arange(10)\n",
    "print(arr)\n",
    "print(np.arange(3, 21, 2))\n",
    "print(\"--------------------\")\n",
    "arr=np.linspace(0,100,5)\n",
    "print(arr)"
   ]
  },
  {
   "cell_type": "markdown",
   "metadata": {},
   "source": [
    "## 전치 연산(Transpose)"
   ]
  },
  {
   "cell_type": "code",
   "execution_count": 18,
   "metadata": {},
   "outputs": [
    {
     "name": "stdout",
     "output_type": "stream",
     "text": [
      "[[1 2 3]\n",
      " [4 5 6]]\n",
      "[[1 4]\n",
      " [2 5]\n",
      " [3 6]]\n"
     ]
    }
   ],
   "source": [
    "arr=np.array([[1,2,3],[4,5,6]])\n",
    "print(arr)\n",
    "print(arr.T)"
   ]
  },
  {
   "cell_type": "markdown",
   "metadata": {},
   "source": [
    "## 배열의 크기 변형\n",
    "    -reshape(), flatten() - 다차원을 일차원으로, ravel() - 다차원을 일차원으로"
   ]
  },
  {
   "cell_type": "code",
   "execution_count": 30,
   "metadata": {},
   "outputs": [
    {
     "name": "stdout",
     "output_type": "stream",
     "text": [
      "[ 0  1  2  3  4  5  6  7  8  9 10 11]\n",
      "(12,)\n",
      "--------------------\n",
      "[[ 0  1  2  3]\n",
      " [ 4  5  6  7]\n",
      " [ 8  9 10 11]]\n",
      "--------------------\n",
      "[[ 0  1  2  3]\n",
      " [ 4  5  6  7]\n",
      " [ 8  9 10 11]]\n",
      "[[ 0  1  2  3]\n",
      " [ 4  5  6  7]\n",
      " [ 8  9 10 11]]\n",
      "[[ 0  1  2  3]\n",
      " [ 4  5  6  7]\n",
      " [ 8  9 10 11]]\n",
      "[[ 0  1  2  3]\n",
      " [ 4  5  6  7]\n",
      " [ 8  9 10 11]]\n",
      "--------------------\n",
      "[ 0  1  2  3  4  5  6  7  8  9 10 11]\n",
      "[ 0  1  2  3  4  5  6  7  8  9 10 11]\n"
     ]
    }
   ],
   "source": [
    "arr=np.arange(12)\n",
    "print(arr)\n",
    "print(arr.shape)\n",
    "print(\"--------------------\")\n",
    "arr2=arr.reshape(3,4)\n",
    "print(arr2)\n",
    "print(\"--------------------\")\n",
    "arr2=arr.reshape(3,-1)\n",
    "print(arr2)\n",
    "arr2=arr.reshape(-1,4)\n",
    "print(arr2)\n",
    "\n",
    "arr3=arr.reshape(2,2,3)\n",
    "print(arr2)\n",
    "\n",
    "arr3=arr.reshape(2,2,-1)\n",
    "print(arr2)\n",
    "print(\"--------------------\")\n",
    "print(arr3.flatten())\n",
    "print(arr3.ravel())"
   ]
  },
  {
   "cell_type": "markdown",
   "metadata": {},
   "source": [
    "## 배열 연결(병합):stack, hstack, vstack, dstack(dimension), tile"
   ]
  },
  {
   "cell_type": "code",
   "execution_count": 33,
   "metadata": {},
   "outputs": [
    {
     "name": "stdout",
     "output_type": "stream",
     "text": [
      "[[1. 1. 1. 1. 1.]\n",
      " [1. 1. 1. 1. 1.]]\n"
     ]
    }
   ],
   "source": [
    "arr1=np.ones([2,3])\n",
    "arr2=np.ones([2,2])\n",
    "#hstack hori 수평(행)으로 연결해 주는 메소드\n",
    "arr3=np.hstack([arr1,arr2])\n",
    "print(arr3)\n",
    "\n",
    "# arr3=np.vstack([arr1,arr2])  열의 갯수가 같을때 사용한다 \n",
    "# print(arr3)"
   ]
  },
  {
   "cell_type": "code",
   "execution_count": 40,
   "metadata": {},
   "outputs": [
    {
     "name": "stdout",
     "output_type": "stream",
     "text": [
      "[[1. 1. 1. 1.]\n",
      " [1. 1. 1. 1.]\n",
      " [1. 1. 1. 1.]]\n",
      "[[[1. 1.]\n",
      "  [1. 1.]\n",
      "  [1. 1.]\n",
      "  [1. 1.]]\n",
      "\n",
      " [[1. 1.]\n",
      "  [1. 1.]\n",
      "  [1. 1.]\n",
      "  [1. 1.]]\n",
      "\n",
      " [[1. 1.]\n",
      "  [1. 1.]\n",
      "  [1. 1.]\n",
      "  [1. 1.]]]\n",
      "(3, 4, 2)\n"
     ]
    }
   ],
   "source": [
    "#dstack 항상 마지막 위치에서 차원이 늘어남\n",
    "arr1=np.ones([3,4])\n",
    "arr2=np.ones([3,4])\n",
    "print(arr1)\n",
    "arr3=np.dstack([arr1,arr2])\n",
    "print(arr3)\n",
    "print(arr3.shape)"
   ]
  },
  {
   "cell_type": "code",
   "execution_count": 45,
   "metadata": {},
   "outputs": [
    {
     "name": "stdout",
     "output_type": "stream",
     "text": [
      "[[[1. 1. 1. 1.]\n",
      "  [1. 1. 1. 1.]\n",
      "  [1. 1. 1. 1.]]\n",
      "\n",
      " [[1. 1. 1. 1.]\n",
      "  [1. 1. 1. 1.]\n",
      "  [1. 1. 1. 1.]]]\n",
      "(2, 3, 4)\n",
      "-----------------------\n",
      "[[[1. 1. 1. 1.]\n",
      "  [1. 1. 1. 1.]\n",
      "  [1. 1. 1. 1.]]\n",
      "\n",
      " [[1. 1. 1. 1.]\n",
      "  [1. 1. 1. 1.]\n",
      "  [1. 1. 1. 1.]]]\n",
      "(2, 3, 4)\n",
      "-----------------------\n",
      "[[[1. 1. 1. 1.]\n",
      "  [1. 1. 1. 1.]]\n",
      "\n",
      " [[1. 1. 1. 1.]\n",
      "  [1. 1. 1. 1.]]\n",
      "\n",
      " [[1. 1. 1. 1.]\n",
      "  [1. 1. 1. 1.]]]\n",
      "(3, 2, 4)\n",
      "-----------------------\n",
      "[[[1. 1.]\n",
      "  [1. 1.]\n",
      "  [1. 1.]\n",
      "  [1. 1.]]\n",
      "\n",
      " [[1. 1.]\n",
      "  [1. 1.]\n",
      "  [1. 1.]\n",
      "  [1. 1.]]\n",
      "\n",
      " [[1. 1.]\n",
      "  [1. 1.]\n",
      "  [1. 1.]\n",
      "  [1. 1.]]]\n",
      "(3, 4, 2)\n"
     ]
    }
   ],
   "source": [
    "#멘 앞에서 차원이 늘어남\n",
    "\n",
    "arr1=np.ones([3,4])\n",
    "arr2=np.ones([3,4])\n",
    "\n",
    "arr3=np.stack([arr1,arr2])\n",
    "print(arr3)\n",
    "print(arr3.shape)\n",
    "print(\"-----------------------\")\n",
    "arr3=np.stack([arr1,arr2], axis=0)\n",
    "print(arr3)\n",
    "print(arr3.shape)\n",
    "print(\"-----------------------\")\n",
    "arr3=np.stack([arr1,arr2], axis=1)\n",
    "print(arr3)\n",
    "print(arr3.shape)\n",
    "print(\"-----------------------\")\n",
    "arr3=np.stack([arr1,arr2], axis=2)\n",
    "print(arr3)\n",
    "print(arr3.shape)"
   ]
  },
  {
   "cell_type": "code",
   "execution_count": 47,
   "metadata": {},
   "outputs": [
    {
     "name": "stdout",
     "output_type": "stream",
     "text": [
      "[[0 1 2 0 1 2]\n",
      " [3 4 5 3 4 5]]\n",
      "---------------------\n",
      "[[0 1 2 0 1 2]\n",
      " [3 4 5 3 4 5]\n",
      " [0 1 2 0 1 2]\n",
      " [3 4 5 3 4 5]\n",
      " [0 1 2 0 1 2]\n",
      " [3 4 5 3 4 5]]\n"
     ]
    }
   ],
   "source": [
    "#tile 자주 안씀\n",
    "arr=np.array([[0,1,2],[3,4,5]])\n",
    "\n",
    "print(np.tile(arr,2))\n",
    "print(\"---------------------\")\n",
    "print(np.tile(arr,(3,2)))  #열의 갯수 행의 갯수"
   ]
  },
  {
   "cell_type": "markdown",
   "metadata": {},
   "source": [
    "## 2차원 그리드 포인트 생성\n"
   ]
  },
  {
   "cell_type": "code",
   "execution_count": 56,
   "metadata": {},
   "outputs": [
    {
     "name": "stdout",
     "output_type": "stream",
     "text": [
      "[0 1 2]\n",
      "[0 1 2 3 4]\n",
      "------------\n",
      "[[0 1 2]\n",
      " [0 1 2]\n",
      " [0 1 2]\n",
      " [0 1 2]\n",
      " [0 1 2]]\n",
      "[[0 0 0]\n",
      " [1 1 1]\n",
      " [2 2 2]\n",
      " [3 3 3]\n",
      " [4 4 4]]\n",
      "[[(0, 0), (1, 0), (2, 0)], [(0, 1), (1, 1), (2, 1)], [(0, 2), (1, 2), (2, 2)], [(0, 3), (1, 3), (2, 3)], [(0, 4), (1, 4), (2, 4)]]\n"
     ]
    },
    {
     "data": {
      "text/plain": [
       "<matplotlib.collections.PathCollection at 0xed36388>"
      ]
     },
     "execution_count": 56,
     "metadata": {},
     "output_type": "execute_result"
    },
    {
     "data": {
      "image/png": "[encoded data removed]",
      "text/plain": [
       "<Figure size 432x288 with 1 Axes>"
      ]
     },
     "metadata": {
      "needs_background": "light"
     },
     "output_type": "display_data"
    }
   ],
   "source": [
    "arr1=np.arange(3)\n",
    "print(arr1)\n",
    "\n",
    "arr2=np.arange(5)\n",
    "print(arr2)\n",
    "print(\"------------\")\n",
    "X,Y=np.meshgrid(arr1,arr2)\n",
    "print(X)\n",
    "print(Y)\n",
    "\n",
    "Z=[list(zip(x,y)) for x,y in zip(X,Y)]\n",
    "print(Z)\n",
    "\n",
    "import matplotlib.pylab as glt\n",
    "glt.scatter(X,Y)"
   ]
  },
  {
   "cell_type": "markdown",
   "metadata": {},
   "source": [
    "## 브로드 캐스팅(BroadCasting)\n",
    "    -ex [1,2,3]*2 는원래 형식상 불가능 np에서는 지원\n",
    "    - 크기가 서로 다른 행렬(백터)끼리 연산을 가능하게 하는 것"
   ]
  },
  {
   "cell_type": "code",
   "execution_count": 72,
   "metadata": {},
   "outputs": [
    {
     "name": "stdout",
     "output_type": "stream",
     "text": [
      "[0, 1, 2, 3, 4]\n",
      "[[0], [1], [2], [3], [4]]\n",
      "[range(0, 3), range(1, 4), range(2, 5), range(3, 6), range(4, 7)]\n",
      "[[0 1 2]\n",
      " [1 2 3]\n",
      " [2 3 4]\n",
      " [3 4 5]\n",
      " [4 5 6]]\n",
      "----------------------------------------------\n",
      "[0 1 2 3 4]\n",
      "[1 2]\n",
      "[0 1 2 3 4]\n",
      "[[0]\n",
      " [1]\n",
      " [2]\n",
      " [3]\n",
      " [4]]\n"
     ]
    }
   ],
   "source": [
    "print([i for i in range(5)])\n",
    "print([[i] for i in range(5)])\n",
    "print([range(7)[i:i+3] for i in range(5)])\n",
    "print(np.vstack([range(7)[i:i+3] for i in range(5)]))\n",
    "print(\"----------------------------------------------\")\n",
    "print(np.arange(5))\n",
    "print(np.arange(5)[1:3])\n",
    "print(np.arange(5)[:])\n",
    "print(np.arange(5)[:,np.newaxis])"
   ]
  },
  {
   "cell_type": "code",
   "execution_count": 4,
   "metadata": {},
   "outputs": [
    {
     "name": "stdout",
     "output_type": "stream",
     "text": [
      "[[0 1 2]\n",
      " [1 2 3]\n",
      " [2 3 4]\n",
      " [3 4 5]\n",
      " [4 5 6]] [0 1 2]\n",
      "[[0 2 4]\n",
      " [1 3 5]\n",
      " [2 4 6]\n",
      " [3 5 7]\n",
      " [4 6 8]]\n"
     ]
    }
   ],
   "source": [
    "x=np.vstack([range(7)[i:i+3] for i in range(5)])\n",
    "y=np.arange(5)[:,np.newaxis]\n",
    "\n",
    "\n",
    "\n",
    "y=np.arange(3)\n",
    "print(x,y)\n",
    "print(x+y)"
   ]
  },
  {
   "cell_type": "markdown",
   "metadata": {},
   "source": [
    "## 차원 축소(dimension reduction) 연산\n",
    "    \n",
    "    -최대값/최소값 : min, max, argmax, argmin\n",
    "    -기본 통계(대표값) : sum, mean(avg), medianm std, var\n",
    "    -불리안 : all, any"
   ]
  },
  {
   "cell_type": "code",
   "execution_count": 76,
   "metadata": {},
   "outputs": [
    {
     "name": "stdout",
     "output_type": "stream",
     "text": [
      "0\n",
      "1\n"
     ]
    }
   ],
   "source": [
    "x = np.array([1, 3, 2]) #가장 큰값과 작은값의 위치(인덱스)를 뽑아주는 메소드\n",
    "result = np.argmin(x)\n",
    "print(result)\n",
    "result = np.argmax(x)\n",
    "print(result)"
   ]
  },
  {
   "cell_type": "code",
   "execution_count": 77,
   "metadata": {},
   "outputs": [
    {
     "name": "stdout",
     "output_type": "stream",
     "text": [
      "True\n",
      "False\n"
     ]
    }
   ],
   "source": [
    "print(np.any([True, True, False]))\n",
    "print(np.all([True, True, False]))"
   ]
  },
  {
   "cell_type": "code",
   "execution_count": 79,
   "metadata": {},
   "outputs": [
    {
     "name": "stdout",
     "output_type": "stream",
     "text": [
      "6\n",
      "열 합계 [3 3]\n",
      "행 합계 [2 4]\n"
     ]
    }
   ],
   "source": [
    "x=np.array([[1,1],[2,2]])\n",
    "\n",
    "print(x.sum())\n",
    "print(\"열 합계\",x.sum(axis=0))\n",
    "print(\"행 합계\",x.sum(axis=1))"
   ]
  },
  {
   "cell_type": "markdown",
   "metadata": {},
   "source": [
    "## 기술 통계\n",
    "\n",
    "    -len()\n",
    "    -mean()\n",
    "    -var()\n",
    "    -std()\n",
    "    -max()\n",
    "    -min()\n",
    "    -사분위수 : percentile()"
   ]
  },
  {
   "cell_type": "code",
   "execution_count": 82,
   "metadata": {},
   "outputs": [
    {
     "name": "stdout",
     "output_type": "stream",
     "text": [
      "최소값 -24.0\n",
      "최대값 23.0\n",
      "1사분위 0.0\n",
      "2사분위 5.0\n",
      "3사분위 10.0\n"
     ]
    }
   ],
   "source": [
    "x = np.array([18, 5, 10, 22, 19, -9 ,10 ,0 ,0 ,5, 2, 15, 8, \n",
    "              2, 5, 4, 15, -1, 4, -7, -24, 7, 9, -6, 23, -13])\n",
    "print(\"최소값\", np.percentile(x,0))\n",
    "print(\"최대값\", np.percentile(x,100))\n",
    "print(\"1사분위\", np.percentile(x,25))\n",
    "print(\"2사분위\", np.percentile(x,50))\n",
    "print(\"3사분위\", np.percentile(x,75))"
   ]
  },
  {
   "cell_type": "code",
   "execution_count": 84,
   "metadata": {},
   "outputs": [
    {
     "data": {
      "text/plain": [
       "DescribeResult(nobs=26, minmax=(-24, 23), mean=4.730769230769231, variance=119.4846153846154, skewness=-0.5027774721160301, kurtosis=0.3427900526856824)"
      ]
     },
     "execution_count": 84,
     "metadata": {},
     "output_type": "execute_result"
    }
   ],
   "source": [
    "from scipy.stats import describe\n",
    "\n",
    "describe(x)"
   ]
  },
  {
   "cell_type": "markdown",
   "metadata": {},
   "source": [
    "## 정렬"
   ]
  },
  {
   "cell_type": "code",
   "execution_count": 90,
   "metadata": {},
   "outputs": [
    {
     "name": "stdout",
     "output_type": "stream",
     "text": [
      "[[ 3  4  5  7]\n",
      " [ 1  8 11 12]\n",
      " [ 1  2 14 15]]\n",
      "[[ 3  4  5  7]\n",
      " [ 1  8 11 12]\n",
      " [ 1  2 14 15]]\n",
      "[[ 1  3  1  7]\n",
      " [ 2 11  5  8]\n",
      " [ 4 15 12 14]]\n",
      "--------------------\n",
      "[[ 4  3  5  7]\n",
      " [ 1 11 12  8]\n",
      " [ 2 15  1 14]]\n",
      "[[ 3  4  5  7]\n",
      " [ 1  8 11 12]\n",
      " [ 1  2 14 15]]\n"
     ]
    }
   ],
   "source": [
    "arr = np.array([[4,3,5,7],\n",
    "                [1,11,12,8],\n",
    "                [2,15,1,14]])\n",
    "print(np.sort(arr))\n",
    "print(np.sort(arr, axis=1))\n",
    "print(np.sort(arr, axis=0))\n",
    "\n",
    "print(\"--------------------\")\n",
    "\n",
    "print(arr)\n",
    "arr.sort()    #re-place\n",
    "print(arr)"
   ]
  },
  {
   "cell_type": "code",
   "execution_count": 18,
   "metadata": {},
   "outputs": [
    {
     "name": "stdout",
     "output_type": "stream",
     "text": [
      "[2 3 1 0]\n",
      "[12 25 38 42]\n",
      "[42 38 25 12]\n"
     ]
    }
   ],
   "source": [
    "#argsort\n",
    "arr=np.array([42, 38, 12, 25])\n",
    "idx=np.argsort(arr) #오름차순\n",
    "idx_re=np.argsort(arr)[::-1] #내림차순\n",
    "print(idx)\n",
    "print(arr[idx])\n",
    "print(arr[idx_re])"
   ]
  },
  {
   "cell_type": "markdown",
   "metadata": {},
   "source": [
    "## 난수\n",
    "\n",
    "    -rand() : 0 부터 1 사이의 균일분포 ex 5까지 각각20%\n",
    "    -randn() : 가우시안 표준 정규 분포에서 숫자를 뽑아주는\n",
    "    -randint() : 균일 붙포의 정수 난수"
   ]
  },
  {
   "cell_type": "code",
   "execution_count": 99,
   "metadata": {},
   "outputs": [
    {
     "name": "stdout",
     "output_type": "stream",
     "text": [
      "[0.45963674 0.01472589 0.15980851 0.53574662 0.58675432 0.82533441\n",
      " 0.3587307  0.63546233 0.57607159 0.47078036]\n",
      "[[0.52366261 0.53858954 0.05568745 0.99704858 0.73014007]\n",
      " [0.64831563 0.30195045 0.69078287 0.88503943 0.61121459]\n",
      " [0.55636822 0.63031657 0.54727562 0.91533389 0.17509686]]\n"
     ]
    }
   ],
   "source": [
    "print(np.random.rand(10))\n",
    "print(np.random.rand(3,5))"
   ]
  },
  {
   "cell_type": "code",
   "execution_count": 106,
   "metadata": {},
   "outputs": [
    {
     "name": "stdout",
     "output_type": "stream",
     "text": [
      "6\n",
      "19\n",
      "[18 16 16 13 11 11 11 11 17 17 12 13 11 12 11 15 12 19 13 19 14 14 18 19\n",
      " 12 12 16 13 14 15 11 19 12 19 12 15 16 13 12 16 17 11 15 19 12 14 14 12\n",
      " 14 13 18 13 18 19 11 17 16 18 17 19 11 11 14 14 12 13 13 16 11 11 17 18\n",
      " 17 13 11 19 19 16 12 14 15 16 17 12 19 14 15 18 16 11 16 19 12 15 11 15\n",
      " 13 14 15 12]\n",
      "[[15 16 12 12]\n",
      " [11 15 16 11]\n",
      " [16 15 18 18]]\n"
     ]
    }
   ],
   "source": [
    "print(np.random.randint(10))\n",
    "print(np.random.randint(11,20))\n",
    "print(np.random.randint(11,20,size=100))\n",
    "print(np.random.randint(11,20,size=(3,4)))"
   ]
  },
  {
   "cell_type": "code",
   "execution_count": 109,
   "metadata": {},
   "outputs": [
    {
     "data": {
      "text/plain": [
       "array([0.77132064, 0.02075195, 0.63364823, 0.74880388, 0.49850701])"
      ]
     },
     "execution_count": 109,
     "metadata": {},
     "output_type": "execute_result"
    }
   ],
   "source": [
    "#재현성을 위하여(비슷한 난수)\n",
    "np.random.seed(10)\n",
    "np.random.rand(5)"
   ]
  },
  {
   "cell_type": "code",
   "execution_count": 112,
   "metadata": {},
   "outputs": [
    {
     "name": "stdout",
     "output_type": "stream",
     "text": [
      "[0 1 2 3 4 5 6 7 8 9]\n",
      "[0 7 5 2 3 9 6 4 8 1]\n"
     ]
    }
   ],
   "source": [
    "# 데이터의 순서 바꾸기\n",
    "x = np.arange(10)\n",
    "print(x)\n",
    "\n",
    "np.random.shuffle(x)\n",
    "print(x)"
   ]
  },
  {
   "cell_type": "code",
   "execution_count": 118,
   "metadata": {},
   "outputs": [
    {
     "name": "stdout",
     "output_type": "stream",
     "text": [
      "[2 1 0 2 1]\n",
      "[2 4 3 1 0]\n",
      "[1 2 4 2 1 1 4 0 0 1]\n",
      "[2 3 0 2 0 3 2 3 2 2]\n"
     ]
    }
   ],
   "source": [
    "#샘플링(표본을 뽑는 작업)\n",
    "\n",
    "print(np.random.choice(5,5))  #복원추출 뽑은값을 또 뽑을수 있음\n",
    "\n",
    "print(np.random.choice(5,5,replace=False)) # 비 복원 추출\n",
    "\n",
    "print(np.random.choice(5,10))\n",
    "print(np.random.choice(5,10,p=[0.1, 0, 0.3, 0.6 ,0]))"
   ]
  },
  {
   "cell_type": "markdown",
   "metadata": {},
   "source": [
    "## 정수형 데이터 카운팅 : unique,bincount"
   ]
  },
  {
   "cell_type": "code",
   "execution_count": 126,
   "metadata": {},
   "outputs": [
    {
     "name": "stdout",
     "output_type": "stream",
     "text": [
      "['a' 'b' 'b' 'c' 'e']\n",
      "['a' 'b' 'c' 'e']\n",
      "['a' 'b' 'c' 'e'] [1 2 1 1]\n"
     ]
    }
   ],
   "source": [
    "arr = np.array(['a','b','b','c','e'])\n",
    "\n",
    "print(arr)\n",
    "print(np.unique(arr))\n",
    "\n",
    "unique, counts = np.unique(arr, return_counts=True)\n",
    "\n",
    "print (unique, counts)"
   ]
  },
  {
   "cell_type": "code",
   "execution_count": 125,
   "metadata": {},
   "outputs": [
    {
     "name": "stdout",
     "output_type": "stream",
     "text": [
      "[0 2 3 1 0 0]\n"
     ]
    }
   ],
   "source": [
    "arr = np.array([1, 1, 2, 2, 2, 3]) #발생하지 않은 사건에 대해서도 카운팅\n",
    "print(np.bincount(arr, minlength=6))"
   ]
  },
  {
   "cell_type": "markdown",
   "metadata": {},
   "source": [
    "## 실습\n",
    "\n",
    "    - http://grouplens.org\n",
    "    - http://grouplens.org movelens old 6M"
   ]
  },
  {
   "cell_type": "code",
   "execution_count": 2,
   "metadata": {},
   "outputs": [
    {
     "name": "stdout",
     "output_type": "stream",
     "text": [
      "[[        1      1193         5 978300760]\n",
      " [        1       661         3 978302109]\n",
      " [        1       914         3 978301968]\n",
      " ...\n",
      " [     6040       562         5 956704746]\n",
      " [     6040      1096         4 956715648]\n",
      " [     6040      1097         4 956715569]]\n",
      "(1000209, 4)\n"
     ]
    }
   ],
   "source": [
    "data=np.loadtxt(\"data/ml-1m/ratings.dat\",delimiter=\"::\",dtype=np.int64)\n",
    "print(data)\n",
    "print(data.shape)"
   ]
  },
  {
   "cell_type": "code",
   "execution_count": null,
   "metadata": {},
   "outputs": [],
   "source": []
  },
  {
   "cell_type": "code",
   "execution_count": 147,
   "metadata": {},
   "outputs": [
    {
     "name": "stdout",
     "output_type": "stream",
     "text": [
      "[[        1      1193         5 978300760]\n",
      " [        1       661         3 978302109]\n",
      " [        1       914         3 978301968]\n",
      " [        1      3408         4 978300275]\n",
      " [        1      2355         5 978824291]\n",
      " [        1      1197         3 978302268]\n",
      " [        1      1287         5 978302039]\n",
      " [        1      2804         5 978300719]\n",
      " [        1       594         4 978302268]\n",
      " [        1       919         4 978301368]\n",
      " [        1       595         5 978824268]\n",
      " [        1       938         4 978301752]\n",
      " [        1      2398         4 978302281]\n",
      " [        1      2918         4 978302124]\n",
      " [        1      1035         5 978301753]\n",
      " [        1      2791         4 978302188]\n",
      " [        1      2687         3 978824268]\n",
      " [        1      2018         4 978301777]\n",
      " [        1      3105         5 978301713]\n",
      " [        1      2797         4 978302039]\n",
      " [        1      2321         3 978302205]]\n"
     ]
    }
   ],
   "source": [
    "#1행부터 20행까지 보기\n",
    "\n",
    "print(data[:21,:])"
   ]
  },
  {
   "cell_type": "code",
   "execution_count": 146,
   "metadata": {},
   "outputs": [
    {
     "name": "stdout",
     "output_type": "stream",
     "text": [
      "user id:  [1 1 1 1 1 1 1 1 1 1] movie id:  [ 720 1270  527 2340   48 1097 1721 1545  745 2294]\n"
     ]
    }
   ],
   "source": [
    "#21행부터 30행까지 출력(user id와 moveid만 출력)\n",
    "\n",
    "print(\"user id: \",data[21:31,0],\"movie id: \",data[21:31,1])"
   ]
  },
  {
   "cell_type": "code",
   "execution_count": 149,
   "metadata": {},
   "outputs": [
    {
     "name": "stdout",
     "output_type": "stream",
     "text": [
      "3.581564453029317\n"
     ]
    }
   ],
   "source": [
    "#전체 평점 평균\n",
    "res_avg=data[:,2].mean()\n",
    "print(res_avg)"
   ]
  },
  {
   "cell_type": "code",
   "execution_count": 7,
   "metadata": {},
   "outputs": [
    {
     "name": "stdout",
     "output_type": "stream",
     "text": [
      "1번 사용자 총합 222.0 1번 사용자 평균 4.188679245283019\n",
      "2번 사용자 총합 479.0 2번 사용자 평균 3.7131782945736433\n",
      "3번 사용자 총합 199.0 3번 사용자 평균 3.9019607843137254\n",
      "4번 사용자 총합 88.0 4번 사용자 평균 4.190476190476191\n",
      "5번 사용자 총합 623.0 5번 사용자 평균 3.1464646464646466\n",
      "6번 사용자 총합 277.0 6번 사용자 평균 3.9014084507042255\n",
      "7번 사용자 총합 134.0 7번 사용자 평균 4.32258064516129\n",
      "8번 사용자 총합 540.0 8번 사용자 평균 3.884892086330935\n",
      "9번 사용자 총합 396.0 9번 사용자 평균 3.7358490566037736\n",
      "10번 사용자 총합 1650.0 10번 사용자 평균 4.114713216957606\n"
     ]
    }
   ],
   "source": [
    "# 사용자별로 평점 평균(10명만 출력)\n",
    "user_range=np.arange(1,11)\n",
    "summ=np.zeros(12)\n",
    "unique, counts = np.unique(data[:,0], return_counts=True)\n",
    "#print(unique[0],counts[0])\n",
    "for user_id, movie, movie_point, date in data:\n",
    "        if user_id in user_range:\n",
    "            summ[user_id]+=movie_point\n",
    "            #print(user_id,movie_point,summ[user_id])\n",
    "for i in range(1,11):\n",
    "    print(\"{}번 사용자 총합\".format(i),summ[i],\"{}번 사용자 평균\".format(i),summ[i]/counts[i-1])"
   ]
  },
  {
   "cell_type": "code",
   "execution_count": 159,
   "metadata": {},
   "outputs": [
    {
     "ename": "TypeError",
     "evalue": "only integer scalar arrays can be converted to a scalar index",
     "output_type": "error",
     "traceback": [
      "\u001b[1;31m---------------------------------------------------------------------------\u001b[0m",
      "\u001b[1;31mTypeError\u001b[0m                                 Traceback (most recent call last)",
      "\u001b[1;32m<ipython-input-159-5ef9e78b2492>\u001b[0m in \u001b[0;36m<module>\u001b[1;34m\u001b[0m\n\u001b[1;32m----> 1\u001b[1;33m \u001b[0mres_avg\u001b[0m\u001b[1;33m=\u001b[0m\u001b[0mdata\u001b[0m\u001b[1;33m[\u001b[0m\u001b[0mdata\u001b[0m\u001b[1;33m[\u001b[0m\u001b[1;33m:\u001b[0m\u001b[1;33m,\u001b[0m\u001b[1;36m0\u001b[0m\u001b[1;33m]\u001b[0m\u001b[1;33m%\u001b[0m\u001b[1;36m10\u001b[0m\u001b[1;33m==\u001b[0m\u001b[1;36m1\u001b[0m\u001b[1;33m:\u001b[0m\u001b[1;33m,\u001b[0m\u001b[1;36m2\u001b[0m\u001b[1;33m]\u001b[0m\u001b[1;33m.\u001b[0m\u001b[0mmean\u001b[0m\u001b[1;33m(\u001b[0m\u001b[1;33m)\u001b[0m\u001b[1;33m\u001b[0m\u001b[1;33m\u001b[0m\u001b[0m\n\u001b[0m",
      "\u001b[1;31mTypeError\u001b[0m: only integer scalar arrays can be converted to a scalar index"
     ]
    }
   ],
   "source": [
    "res_avg=data[data%10==1:,2].mean()"
   ]
  },
  {
   "cell_type": "code",
   "execution_count": 162,
   "metadata": {},
   "outputs": [
    {
     "name": "stdout",
     "output_type": "stream",
     "text": [
      "1 : 4.188679245283019\n",
      "2 : 3.7131782945736433\n",
      "3 : 3.9019607843137254\n",
      "4 : 4.190476190476191\n",
      "5 : 3.1464646464646466\n",
      "6 : 3.9014084507042255\n",
      "7 : 4.32258064516129\n",
      "8 : 3.884892086330935\n",
      "9 : 3.7358490566037736\n",
      "10 : 4.114713216957606\n"
     ]
    }
   ],
   "source": [
    "users = np.unique(data[:,0])[:10]\n",
    "\n",
    "for user in users :\n",
    "    mean = data[data[:,0] == user][:,2].mean()\n",
    "    print(user, \":\",  mean)\n"
   ]
  },
  {
   "cell_type": "code",
   "execution_count": 3,
   "metadata": {},
   "outputs": [
    {
     "name": "stdout",
     "output_type": "stream",
     "text": [
      "(6040,)\n"
     ]
    }
   ],
   "source": [
    "user_id = np.unique(data[:,0])\n",
    "print(user_id.shape)\n",
    "\n",
    "user_val=[]\n",
    "for id in user_id:\n",
    "    "
   ]
  },
  {
   "cell_type": "code",
   "execution_count": 8,
   "metadata": {},
   "outputs": [
    {
     "name": "stdout",
     "output_type": "stream",
     "text": [
      "2898\n",
      "[       23      3952         4 978461000]\n"
     ]
    }
   ],
   "source": [
    "print(np.argmax(data[:,1]))\n",
    "print(data[2898,:])"
   ]
  },
  {
   "cell_type": "code",
   "execution_count": 15,
   "metadata": {},
   "outputs": [],
   "source": [
    "#결과값 파일로 저장\n",
    "np.savetxt(\"data/ml-1m/id_artime.csv\",data,fmt=\"%.1f\",delimiter=',')"
   ]
  },
  {
   "cell_type": "markdown",
   "metadata": {},
   "source": [
    "### 부록 ':'"
   ]
  },
  {
   "cell_type": "code",
   "execution_count": 31,
   "metadata": {},
   "outputs": [
    {
     "data": {
      "text/plain": [
       "[1, 3, 5]"
      ]
     },
     "execution_count": 31,
     "metadata": {},
     "output_type": "execute_result"
    }
   ],
   "source": [
    "arr=range(10)\n",
    "list(arr[::-2])\n",
    "list(arr[8::-2])\n",
    "list(arr[1:6:2])"
   ]
  },
  {
   "cell_type": "code",
   "execution_count": null,
   "metadata": {},
   "outputs": [],
   "source": []
  },
  {
   "cell_type": "code",
   "execution_count": null,
   "metadata": {},
   "outputs": [],
   "source": []
  }
 ],
 "metadata": {
  "kernelspec": {
   "display_name": "Python 3",
   "language": "python",
   "name": "python3"
  },
  "language_info": {
   "codemirror_mode": {
    "name": "ipython",
    "version": 3
   },
   "file_extension": ".py",
   "mimetype": "text/x-python",
   "name": "python",
   "nbconvert_exporter": "python",
   "pygments_lexer": "ipython3",
   "version": "3.6.5"
  }
 },
 "nbformat": 4,
 "nbformat_minor": 2
}
