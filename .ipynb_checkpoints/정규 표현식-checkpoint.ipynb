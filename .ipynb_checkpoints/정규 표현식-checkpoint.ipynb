{
 "cells": [
  {
   "cell_type": "markdown",
   "metadata": {},
   "source": [
    "# Regular Expression : 정규 표현식\n",
    "    \n",
    "    -http://docs.python.org/3/library/re.html\n",
    "    \n",
    "    \n",
    "    -반복\n",
    "        * : 0회 이상\n",
    "        + : 1회 이상\n",
    "        ? : 0회 또는 1회\n",
    "        [a] : a회 반복\n",
    "        [a,s] : a회 부터 s회까지 반복\n",
    "    \n",
    "    -매칭 메타문자\n",
    "        . : 줄바꿈 문자를 제외한 모든 문자와 매치\n",
    "        ^ : 문자열의 시작과 매치\n",
    "        $ : 문자열의 마지막과 매치\n",
    "        [] : 문자집합 중 한 문자를 의미\n",
    "        | : 또는(or)의 의미\n",
    "        {} : 정규식을 그룹을 묶음\n",
    "     \n",
    "    - 특수 문자(\\문자)\n",
    "        \\d : 모든 숫자와 매치\n",
    "        \\O : 숫자가 아닌 문자와 매치\n",
    "        \\s : 공백문자와 매치\n",
    "        \\S : 공백문자가 아닌 모든 것과 매치\n",
    "        \\w : 숫자 또는 문자와 매치\n",
    "        \\W : 숫자 또는 문자가 아닌 모든 문자와 매치\n",
    "        \n",
    "    -Python에서 제공하는 메서드\n",
    "        complie() : 정규표현식 객체를 생성(패턴 정의)\n",
    "        match() : 문자열의 처음부터 정규식과 매치되는지 조사\n",
    "        search() : 문자열의 전체를 검색하여 정규식과 매치되는지 조사\n",
    "        split() : 문자열 분리\n",
    "        findall() : 정규식과 매치되는 모든 문자열을 리스트로 리턴\n",
    "        finditer(): 정규식과 매치되는 모든 문자열 반복 가능한 객체로 리턴\n",
    "        sub() : 변경,교체\n",
    "        ..."
   ]
  },
  {
   "cell_type": "code",
   "execution_count": 1,
   "metadata": {},
   "outputs": [],
   "source": [
    "import re"
   ]
  },
  {
   "cell_type": "code",
   "execution_count": 36,
   "metadata": {},
   "outputs": [
    {
     "name": "stdout",
     "output_type": "stream",
     "text": [
      "None\n",
      "None\n",
      "None\n",
      "None\n",
      "<_sre.SRE_Match object; span=(0, 9), match='3 abc pds'>\n"
     ]
    }
   ],
   "source": [
    "p=re.compile(\"[b]\")\n",
    "p=re.compile(\"[a-z]\")\n",
    "p=re.compile(\"[a-z]*\")\n",
    "p=re.compile(\"[a-z]{3}\")\n",
    "p=re.compile(\"[0-9] [a-z]+\")\n",
    "p=re.compile(\"[0-9] [a-z]+ .+\")\n",
    "\n",
    "print(p.match(\"b\"))\n",
    "print(p.match(\"v\"))\n",
    "print(p.match(\"axc\"))\n",
    "print(p.match(\"3 abc\"))\n",
    "print(p.match(\"3 abc pds\"))"
   ]
  },
  {
   "cell_type": "code",
   "execution_count": 41,
   "metadata": {},
   "outputs": [
    {
     "data": {
      "text/plain": [
       "True"
      ]
     },
     "execution_count": 41,
     "metadata": {},
     "output_type": "execute_result"
    }
   ],
   "source": [
    "bool(re.match(\"[0-9]*th\",\"35th\"))\n",
    "bool(re.match(\"[0-9]*th\",\"            35th\"))\n",
    "bool(re.search(\"[0-9]*th\",\"            35th\"))"
   ]
  },
  {
   "cell_type": "code",
   "execution_count": 42,
   "metadata": {},
   "outputs": [
    {
     "data": {
      "text/plain": [
       "['adc', 'kbs', 'sbs', 'ytn']"
      ]
     },
     "execution_count": 42,
     "metadata": {},
     "output_type": "execute_result"
    }
   ],
   "source": [
    "re.split(\"\\W+\",\"adc,kbs sbs:ytn\")"
   ]
  },
  {
   "cell_type": "code",
   "execution_count": 45,
   "metadata": {},
   "outputs": [
    {
     "name": "stdout",
     "output_type": "stream",
     "text": [
      "188834abc가나다ABC_567\n"
     ]
    }
   ],
   "source": [
    "s = re.sub(\"[0-9]+\",\"888\",'1234abc가나다ABC_567')\n",
    "print(s)"
   ]
  },
  {
   "cell_type": "code",
   "execution_count": 8,
   "metadata": {},
   "outputs": [
    {
     "name": "stdout",
     "output_type": "stream",
     "text": [
      "<_sre.SRE_Match object; span=(0, 6), match='python'>\n",
      "python\n",
      "0 6\n",
      "(0, 6)\n"
     ]
    }
   ],
   "source": [
    "p = re.compile(\"[a-z]+\")\n",
    "\n",
    "a= p.match(\"python\")\n",
    "print(a)\n",
    "print(a.group())\n",
    "print(a.start(),a.end())\n",
    "print(a.span())"
   ]
  },
  {
   "cell_type": "code",
   "execution_count": 10,
   "metadata": {},
   "outputs": [
    {
     "name": "stdout",
     "output_type": "stream",
     "text": [
      "<_sre.SRE_Match object; span=(0, 3), match='a+b'>\n",
      "None\n"
     ]
    }
   ],
   "source": [
    "# 컴파일 옵션 : S(Dotall), I(i-ignorecase), N(MULTILINE)\n",
    "p=re.compile(\"a.b\")\n",
    "\n",
    "s=p.match(\"a+b\")\n",
    "print(s)\n",
    "\n",
    "s=p.match(\"a\\nb\")\n",
    "print(s)"
   ]
  },
  {
   "cell_type": "code",
   "execution_count": null,
   "metadata": {},
   "outputs": [],
   "source": []
  }
 ],
 "metadata": {
  "kernelspec": {
   "display_name": "Python 3",
   "language": "python",
   "name": "python3"
  },
  "language_info": {
   "codemirror_mode": {
    "name": "ipython",
    "version": 3
   },
   "file_extension": ".py",
   "mimetype": "text/x-python",
   "name": "python",
   "nbconvert_exporter": "python",
   "pygments_lexer": "ipython3",
   "version": "3.6.5"
  }
 },
 "nbformat": 4,
 "nbformat_minor": 2
}
